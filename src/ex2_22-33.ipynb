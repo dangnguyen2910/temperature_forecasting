{
 "cells": [
  {
   "cell_type": "code",
   "execution_count": 1,
   "metadata": {},
   "outputs": [],
   "source": [
    "import pandas as pd\n",
    "import matplotlib.pyplot as plt"
   ]
  },
  {
   "cell_type": "code",
   "execution_count": 2,
   "metadata": {},
   "outputs": [],
   "source": [
    "df = pd.read_csv('paris_temperature.csv')\n"
   ]
  },
  {
   "cell_type": "code",
   "execution_count": 5,
   "metadata": {},
   "outputs": [
    {
     "data": {
      "text/plain": [
       "precipcover\n",
       "0.00     103\n",
       "4.17      52\n",
       "8.33      39\n",
       "16.67     34\n",
       "12.50     32\n",
       "29.17     20\n",
       "25.00     19\n",
       "20.83     14\n",
       "33.33     14\n",
       "37.50     12\n",
       "41.67     12\n",
       "45.83      7\n",
       "50.00      7\n",
       "54.17      6\n",
       "58.33      3\n",
       "70.83      3\n",
       "62.50      3\n",
       "75.00      1\n",
       "66.67      1\n",
       "Name: count, dtype: int64"
      ]
     },
     "execution_count": 5,
     "metadata": {},
     "output_type": "execute_result"
    }
   ],
   "source": [
    "df['precipcover'].value_counts()"
   ]
  },
  {
   "cell_type": "code",
   "execution_count": 4,
   "metadata": {},
   "outputs": [
    {
     "data": {
      "text/plain": [
       "Index(['solarradiation', 'solarenergy', 'uvindex', 'severerisk', 'sunrise',\n",
       "       'sunset', 'moonphase', 'conditions', 'description', 'icon', 'stations'],\n",
       "      dtype='object')"
      ]
     },
     "execution_count": 4,
     "metadata": {},
     "output_type": "execute_result"
    }
   ],
   "source": [
    "df_last11 = df.iloc[:, -11:]\n",
    "df_last11.columns"
   ]
  },
  {
   "cell_type": "markdown",
   "metadata": {},
   "source": [
    "### Solar radiation\n"
   ]
  },
  {
   "cell_type": "markdown",
   "metadata": {},
   "source": [
    "- Definition: Energy emitted by the sun through electromagnetic waves\n",
    "- Data type: numerical \n",
    "- Unit: Watts per metre $(W/m^2)$"
   ]
  },
  {
   "cell_type": "code",
   "execution_count": 15,
   "metadata": {},
   "outputs": [
    {
     "data": {
      "text/plain": [
       "count    382.000000\n",
       "mean      49.813874\n",
       "std       37.130885\n",
       "min        0.000000\n",
       "25%       16.825000\n",
       "50%       43.500000\n",
       "75%       76.325000\n",
       "max      169.800000\n",
       "Name: solarradiation, dtype: float64"
      ]
     },
     "execution_count": 15,
     "metadata": {},
     "output_type": "execute_result"
    }
   ],
   "source": [
    "df_last11['solarradiation'].describe()"
   ]
  },
  {
   "cell_type": "markdown",
   "metadata": {},
   "source": [
    "### Solar energy \n"
   ]
  },
  {
   "cell_type": "markdown",
   "metadata": {},
   "source": [
    "- Definition: The solar radiation that **reaches** the Earth. As a result, solar energy is often much lower than solar radiation \n",
    "- Data type: numerical\n",
    "- Unit: $W/m^2$"
   ]
  },
  {
   "cell_type": "code",
   "execution_count": 20,
   "metadata": {},
   "outputs": [
    {
     "data": {
      "text/plain": [
       "mean     4.296335\n",
       "std      3.214728\n",
       "min      0.000000\n",
       "25%      1.400000\n",
       "50%      3.800000\n",
       "75%      6.500000\n",
       "max     14.700000\n",
       "Name: solarenergy, dtype: float64"
      ]
     },
     "execution_count": 20,
     "metadata": {},
     "output_type": "execute_result"
    }
   ],
   "source": [
    "df_last11['solarenergy'].describe().iloc[1:]"
   ]
  },
  {
   "cell_type": "markdown",
   "metadata": {},
   "source": [
    "### UV index  \n",
    "- Definition: UV index or ultraviolet index is a measurement of the strength sunburn-producing ultraviolet radiation\n",
    "- Values range: 0 - 11+ where: \n",
    "    - 0 - 2: low risk of ham\n",
    "    - 3 - 5: moderate risk of ham\n",
    "    - 6 - 7: high risk of ham\n",
    "    - 8 - 10: very high risk of ham\n",
    "    - 11+: extreme risk of ham"
   ]
  },
  {
   "cell_type": "code",
   "execution_count": 22,
   "metadata": {},
   "outputs": [
    {
     "data": {
      "text/plain": [
       "uvindex\n",
       "1    111\n",
       "2     56\n",
       "3     52\n",
       "4     34\n",
       "0     34\n",
       "6     33\n",
       "7     27\n",
       "5     23\n",
       "8     12\n",
       "Name: count, dtype: int64"
      ]
     },
     "execution_count": 22,
     "metadata": {},
     "output_type": "execute_result"
    }
   ],
   "source": [
    "df_last11['uvindex'].describe().iloc[1:]\n",
    "df_last11['uvindex'].value_counts()"
   ]
  },
  {
   "cell_type": "markdown",
   "metadata": {},
   "source": [
    "- In our dataset, uv index only range from 0 to 8"
   ]
  },
  {
   "cell_type": "markdown",
   "metadata": {},
   "source": [
    "### Severe risk\n",
    "- Definition: No idea\n",
    "- Data type: numerical, integer\n",
    "- Values: 10, 30, 60, 75"
   ]
  },
  {
   "cell_type": "code",
   "execution_count": 28,
   "metadata": {},
   "outputs": [
    {
     "data": {
      "text/plain": [
       "severerisk\n",
       "10    373\n",
       "30      6\n",
       "60      2\n",
       "75      1\n",
       "Name: count, dtype: int64"
      ]
     },
     "execution_count": 28,
     "metadata": {},
     "output_type": "execute_result"
    }
   ],
   "source": [
    "df_last11['severerisk'].describe().iloc[1:]\n",
    "df_last11['severerisk'].value_counts()"
   ]
  },
  {
   "cell_type": "markdown",
   "metadata": {},
   "source": [
    "### Sunrise\n",
    "- Definition: The specific time when the sun rises\n",
    "- Data type: Date. Format: YYYY-MM-DD HH:MM:SS "
   ]
  },
  {
   "cell_type": "code",
   "execution_count": 34,
   "metadata": {},
   "outputs": [
    {
     "data": {
      "text/plain": [
       "0    2023-10-01T07:49:34\n",
       "1    2023-10-02T07:51:01\n",
       "2    2023-10-03T07:52:29\n",
       "3    2023-10-04T07:53:57\n",
       "4    2023-10-05T07:55:25\n",
       "Name: sunrise, dtype: object"
      ]
     },
     "execution_count": 34,
     "metadata": {},
     "output_type": "execute_result"
    }
   ],
   "source": [
    "df_last11['sunrise'].head()"
   ]
  },
  {
   "cell_type": "markdown",
   "metadata": {},
   "source": [
    "### Sunset\n",
    "- Definition: The specific time of the sunset\n",
    "- Data type: - Data type: Date. Format: YYYY-MM-DD HH:MM:SS "
   ]
  },
  {
   "cell_type": "code",
   "execution_count": 38,
   "metadata": {},
   "outputs": [
    {
     "data": {
      "text/plain": [
       "0    2023-10-01T19:30:27\n",
       "1    2023-10-02T19:28:21\n",
       "2    2023-10-03T19:26:16\n",
       "3    2023-10-04T19:24:10\n",
       "4    2023-10-05T19:22:06\n",
       "Name: sunset, dtype: object"
      ]
     },
     "execution_count": 38,
     "metadata": {},
     "output_type": "execute_result"
    }
   ],
   "source": [
    "df_last11['sunset'].head()"
   ]
  },
  {
   "cell_type": "markdown",
   "metadata": {},
   "source": [
    "### Moon phase\n",
    "- Description: Moon phases are different shapes of the moon as we see in different days in a month.  \n",
    "There are  a total of 8 moon phases: New moon -> Waxing Crescent -> First quarter -> Waxing Gibbous -> Full moon -> Waning Gibbous -> Third Quarter -> Waning Crescent -> New moon\n",
    "- Values: 0 to 1, indicate the sunlit portion to the moon \n",
    "    - 0: at new moon\n",
    "    - 0.5: at full moon\n"
   ]
  },
  {
   "cell_type": "code",
   "execution_count": 41,
   "metadata": {},
   "outputs": [
    {
     "data": {
      "text/plain": [
       "mean    0.481990\n",
       "std     0.289633\n",
       "min     0.000000\n",
       "25%     0.242500\n",
       "50%     0.480000\n",
       "75%     0.750000\n",
       "max     0.980000\n",
       "Name: moonphase, dtype: float64"
      ]
     },
     "execution_count": 41,
     "metadata": {},
     "output_type": "execute_result"
    }
   ],
   "source": [
    "df_last11['moonphase'].describe().iloc[1:]"
   ]
  },
  {
   "cell_type": "code",
   "execution_count": 52,
   "metadata": {},
   "outputs": [
    {
     "data": {
      "text/plain": [
       "[<matplotlib.lines.Line2D at 0x7238d73456a0>]"
      ]
     },
     "execution_count": 52,
     "metadata": {},
     "output_type": "execute_result"
    },
    {
     "data": {
      "image/png": "[encoded data removed]",
      "text/plain": [
       "<Figure size 1500x300 with 1 Axes>"
      ]
     },
     "metadata": {},
     "output_type": "display_data"
    }
   ],
   "source": [
    "plt.figure(figsize=(15,3))\n",
    "plt.plot(pd.to_datetime(df['datetime']), df['moonphase'])"
   ]
  },
  {
   "cell_type": "markdown",
   "metadata": {},
   "source": [
    "### Conditions\n",
    "- Description: The weather condition in that day\n",
    "- Data type: categorical\n",
    "- Values: Rain, partially cloudy, overcast, clear, snow, freezing drizzle/freezing rain\n",
    "- Each day can have a combination of conditions"
   ]
  },
  {
   "cell_type": "code",
   "execution_count": 54,
   "metadata": {},
   "outputs": [
    {
     "data": {
      "text/plain": [
       "conditions\n",
       "Rain, Partially cloudy                                          136\n",
       "Rain, Overcast                                                  133\n",
       "Partially cloudy                                                 84\n",
       "Overcast                                                         20\n",
       "Clear                                                             4\n",
       "Snow, Rain, Overcast                                              3\n",
       "Snow, Rain, Partially cloudy                                      1\n",
       "Snow, Rain, Freezing Drizzle/Freezing Rain, Partially cloudy      1\n",
       "Name: count, dtype: int64"
      ]
     },
     "execution_count": 54,
     "metadata": {},
     "output_type": "execute_result"
    }
   ],
   "source": [
    "df['conditions'].value_counts()"
   ]
  },
  {
   "cell_type": "markdown",
   "metadata": {},
   "source": [
    "### Description\n",
    "- Description: The detail description of weather condition\n",
    "- Data type: String"
   ]
  },
  {
   "cell_type": "code",
   "execution_count": 60,
   "metadata": {},
   "outputs": [
    {
     "data": {
      "text/plain": [
       "0    Partly cloudy throughout the day with morning ...\n",
       "1                    Partly cloudy throughout the day.\n",
       "2    Partly cloudy throughout the day with rain in ...\n",
       "3    Partly cloudy throughout the day with morning ...\n",
       "4    Partly cloudy throughout the day with morning ...\n",
       "Name: description, dtype: object"
      ]
     },
     "execution_count": 60,
     "metadata": {},
     "output_type": "execute_result"
    }
   ],
   "source": [
    "df['description'].head()"
   ]
  },
  {
   "cell_type": "markdown",
   "metadata": {},
   "source": [
    "### Icon\n",
    "- Description: The most suitable icon to describe weather for that day \n",
    "- Data type: Categorical\n",
    "- Values: rain, partly-cloudy-day, cloudy, snow, clear-day"
   ]
  },
  {
   "cell_type": "code",
   "execution_count": 62,
   "metadata": {},
   "outputs": [
    {
     "data": {
      "text/plain": [
       "icon\n",
       "rain                 269\n",
       "partly-cloudy-day     84\n",
       "cloudy                20\n",
       "snow                   5\n",
       "clear-day              4\n",
       "Name: count, dtype: int64"
      ]
     },
     "execution_count": 62,
     "metadata": {},
     "output_type": "execute_result"
    }
   ],
   "source": [
    "df['icon'].value_counts()"
   ]
  },
  {
   "cell_type": "markdown",
   "metadata": {},
   "source": [
    "### Stations\n",
    "- Description: some kind of identifications of the stations that collects that data\n",
    "- Datatype: List of number and string\n",
    "    - Numbers often start with 071 and end with 99999\n",
    "    - Strings can consist of 4-letter string or 1 letter plus 4 numbers (e.g., C1292)"
   ]
  },
  {
   "cell_type": "code",
   "execution_count": 68,
   "metadata": {},
   "outputs": [
    {
     "data": {
      "text/plain": [
       "stations\n",
       "07149099999,07156099999,07146099999,07157099999,C1292,07147099999,07150099999                                           247\n",
       "07149099999,07156099999,07146099999,07145099999,07157099999,C1292,07147099999,07150099999                                36\n",
       "07149099999,07156099999,07146099999,LFPV,07157099999,C1292,07147099999,LFPO,07150099999,LFPB                             18\n",
       "07149099999,07156099999,07146099999,07157099999,C1292,07147099999,07150099999,D3623                                      12\n",
       "LFPV,C1292,LFPO,LFPB                                                                                                     10\n",
       "07149099999,07156099999,07146099999,07153099999,07157099999,C1292,07147099999,07150099999                                 6\n",
       "07149099999,07156099999,07146099999,LFPV,07145099999,07153099999,07157099999,C1292,07147099999,LFPO,07150099999,LFPB      6\n",
       "07149099999,07156099999,07146099999,07157099999,07147099999,C1292,07150099999,D3623                                       5\n",
       "07149099999,07156099999,07146099999,07145099999,07157099999,C1292,07147099999,07150099999,D3623                           3\n",
       "07149099999,07156099999,07146099999,07157099999,07147099999,C1292,07150099999                                             3\n",
       "07149099999,07156099999,07146099999,LFPV,07145099999,07157099999,C1292,07147099999,LFPO,07150099999,LFPB                  3\n",
       "LFPV,LFPO,D3623,LFPB                                                                                                      2\n",
       "07149099999,LFPV,07156099999,07146099999,07157099999,C1292,LFPO,07147099999,07150099999,LFPB                              2\n",
       "07149099999,07156099999,07146099999,07145099999,07153099999,07157099999,C1292,07147099999,07150099999                     2\n",
       "07149099999,07156099999,07146099999,LFPV,07145099999,07153099999,07157099999,C1292,07147099999,07150099999                1\n",
       "07149099999,07156099999,07146099999,LFPV,07157099999,C1292,07147099999,07150099999,D3623                                  1\n",
       "07149099999,07156099999,07146099999,LFPV,07157099999,C1292,07147099999,07150099999,LFPB                                   1\n",
       "07149099999,07156099999,07146099999,07145099999,07157099999,07147099999,C1292,07150099999,D3623                           1\n",
       "07149099999,07156099999,07146099999,LFPV,07153099999,07157099999,C1292,07147099999,07150099999                            1\n",
       "07149099999,07156099999,07146099999,LFPV,07157099999,07147099999,LFPO,07150099999,D3623,LFPB                              1\n",
       "07149099999,07156099999,07146099999,07157099999,07147099999,07150099999,D3623                                             1\n",
       "07149099999,07156099999,07146099999,LFPV,07153099999,07157099999,C1292,07147099999,LFPO,07150099999,LFPB                  1\n",
       "07149099999,LFPV,C1292,LFPO,LFPB                                                                                          1\n",
       "07149099999,07146099999,LFPV,07156099999,07153099999,07157099999,C1292,07147099999,LFPO,07150099999,LFPB                  1\n",
       "LFPV,C1292,LFPO,07147099999,LFPB                                                                                          1\n",
       "LFPV,C1292,LFPO,D3623,LFPB                                                                                                1\n",
       "LFPV,LFPO,C1292,D3623,LFPB                                                                                                1\n",
       "Name: count, dtype: int64"
      ]
     },
     "execution_count": 68,
     "metadata": {},
     "output_type": "execute_result"
    }
   ],
   "source": [
    "df['stations'].value_counts()"
   ]
  }
 ],
 "metadata": {
  "kernelspec": {
   "display_name": ".venv",
   "language": "python",
   "name": "python3"
  },
  "language_info": {
   "codemirror_mode": {
    "name": "ipython",
    "version": 3
   },
   "file_extension": ".py",
   "mimetype": "text/x-python",
   "name": "python",
   "nbconvert_exporter": "python",
   "pygments_lexer": "ipython3",
   "version": "3.12.3"
  }
 },
 "nbformat": 4,
 "nbformat_minor": 2
}
