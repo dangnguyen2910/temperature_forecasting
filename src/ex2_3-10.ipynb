{
 "cells": [
  {
   "cell_type": "code",
   "execution_count": 13,
   "metadata": {},
   "outputs": [],
   "source": [
    "import pandas as pd\n",
    "import matplotlib.pyplot as plt"
   ]
  },
  {
   "cell_type": "code",
   "execution_count": 14,
   "metadata": {},
   "outputs": [],
   "source": [
    "df = pd.read_csv('../data/paris_temperature.csv')"
   ]
  },
  {
   "cell_type": "code",
   "execution_count": 15,
   "metadata": {},
   "outputs": [
    {
     "name": "stdout",
     "output_type": "stream",
     "text": [
      "Index(['tempmax', 'tempmin', 'temp', 'feelslikemax', 'feelslikemin',\n",
      "       'feelslike', 'dew', 'humidity', 'precip'],\n",
      "      dtype='object')\n"
     ]
    },
    {
     "data": {
      "text/html": [
       "<div>\n",
       "<style scoped>\n",
       "    .dataframe tbody tr th:only-of-type {\n",
       "        vertical-align: middle;\n",
       "    }\n",
       "\n",
       "    .dataframe tbody tr th {\n",
       "        vertical-align: top;\n",
       "    }\n",
       "\n",
       "    .dataframe thead th {\n",
       "        text-align: right;\n",
       "    }\n",
       "</style>\n",
       "<table border=\"1\" class=\"dataframe\">\n",
       "  <thead>\n",
       "    <tr style=\"text-align: right;\">\n",
       "      <th></th>\n",
       "      <th>tempmax</th>\n",
       "      <th>tempmin</th>\n",
       "      <th>temp</th>\n",
       "      <th>feelslikemax</th>\n",
       "      <th>feelslikemin</th>\n",
       "      <th>feelslike</th>\n",
       "      <th>dew</th>\n",
       "      <th>humidity</th>\n",
       "      <th>precip</th>\n",
       "    </tr>\n",
       "  </thead>\n",
       "  <tbody>\n",
       "    <tr>\n",
       "      <th>0</th>\n",
       "      <td>26.5</td>\n",
       "      <td>12.5</td>\n",
       "      <td>18.9</td>\n",
       "      <td>26.5</td>\n",
       "      <td>12.5</td>\n",
       "      <td>18.9</td>\n",
       "      <td>13.7</td>\n",
       "      <td>74.3</td>\n",
       "      <td>0.144</td>\n",
       "    </tr>\n",
       "    <tr>\n",
       "      <th>1</th>\n",
       "      <td>27.7</td>\n",
       "      <td>14.5</td>\n",
       "      <td>20.7</td>\n",
       "      <td>27.9</td>\n",
       "      <td>14.5</td>\n",
       "      <td>20.7</td>\n",
       "      <td>14.7</td>\n",
       "      <td>71.0</td>\n",
       "      <td>0.000</td>\n",
       "    </tr>\n",
       "    <tr>\n",
       "      <th>2</th>\n",
       "      <td>22.1</td>\n",
       "      <td>15.0</td>\n",
       "      <td>18.8</td>\n",
       "      <td>22.1</td>\n",
       "      <td>15.0</td>\n",
       "      <td>18.8</td>\n",
       "      <td>13.0</td>\n",
       "      <td>69.9</td>\n",
       "      <td>0.386</td>\n",
       "    </tr>\n",
       "    <tr>\n",
       "      <th>3</th>\n",
       "      <td>18.2</td>\n",
       "      <td>10.2</td>\n",
       "      <td>14.2</td>\n",
       "      <td>18.2</td>\n",
       "      <td>10.2</td>\n",
       "      <td>14.2</td>\n",
       "      <td>9.3</td>\n",
       "      <td>73.2</td>\n",
       "      <td>0.006</td>\n",
       "    </tr>\n",
       "  </tbody>\n",
       "</table>\n",
       "</div>"
      ],
      "text/plain": [
       "   tempmax  tempmin  temp  feelslikemax  feelslikemin  feelslike   dew  \\\n",
       "0     26.5     12.5  18.9          26.5          12.5       18.9  13.7   \n",
       "1     27.7     14.5  20.7          27.9          14.5       20.7  14.7   \n",
       "2     22.1     15.0  18.8          22.1          15.0       18.8  13.0   \n",
       "3     18.2     10.2  14.2          18.2          10.2       14.2   9.3   \n",
       "\n",
       "   humidity  precip  \n",
       "0      74.3   0.144  \n",
       "1      71.0   0.000  \n",
       "2      69.9   0.386  \n",
       "3      73.2   0.006  "
      ]
     },
     "execution_count": 15,
     "metadata": {},
     "output_type": "execute_result"
    }
   ],
   "source": [
    "df = df.iloc[:, 2:11]\n",
    "print(df.columns)\n",
    "df.head(4)"
   ]
  },
  {
   "cell_type": "markdown",
   "metadata": {},
   "source": [
    "### tempmax\n",
    "- Description: Maximum temperature of a day\n",
    "- Unit: degree Celsius\n",
    "- Type: numerical"
   ]
  },
  {
   "cell_type": "code",
   "execution_count": 16,
   "metadata": {},
   "outputs": [
    {
     "data": {
      "text/plain": [
       "count    382.000000\n",
       "mean      16.802356\n",
       "std        6.840083\n",
       "min       -1.300000\n",
       "25%       11.800000\n",
       "50%       16.150000\n",
       "75%       21.850000\n",
       "max       36.200000\n",
       "Name: tempmax, dtype: float64"
      ]
     },
     "execution_count": 16,
     "metadata": {},
     "output_type": "execute_result"
    }
   ],
   "source": [
    "df['tempmax'].describe()"
   ]
  },
  {
   "cell_type": "markdown",
   "metadata": {},
   "source": [
    "### tempmin\n",
    "- Description: Minimum temperature of a day\n",
    "- Unit: degree Celsius\n",
    "- Type: numerical"
   ]
  },
  {
   "cell_type": "code",
   "execution_count": 17,
   "metadata": {},
   "outputs": [
    {
     "data": {
      "text/plain": [
       "count    382.000000\n",
       "mean      10.096859\n",
       "std        5.057506\n",
       "min       -4.100000\n",
       "25%        6.625000\n",
       "50%       10.200000\n",
       "75%       13.600000\n",
       "max       21.200000\n",
       "Name: tempmin, dtype: float64"
      ]
     },
     "execution_count": 17,
     "metadata": {},
     "output_type": "execute_result"
    }
   ],
   "source": [
    "df['tempmin'].describe()"
   ]
  },
  {
   "cell_type": "markdown",
   "metadata": {},
   "source": [
    "### temp\n",
    "- Description: Average temperature of a day \n",
    "- Unit: degree Celsius\n",
    "- Type: numerical"
   ]
  },
  {
   "cell_type": "code",
   "execution_count": 18,
   "metadata": {},
   "outputs": [
    {
     "data": {
      "text/plain": [
       "count    382.000000\n",
       "mean      13.279319\n",
       "std        5.819955\n",
       "min       -1.800000\n",
       "25%        9.300000\n",
       "50%       13.050000\n",
       "75%       17.575000\n",
       "max       28.300000\n",
       "Name: temp, dtype: float64"
      ]
     },
     "execution_count": 18,
     "metadata": {},
     "output_type": "execute_result"
    }
   ],
   "source": [
    "df['temp'].describe()"
   ]
  },
  {
   "cell_type": "markdown",
   "metadata": {},
   "source": [
    "### feelslikemax\n",
    "- Description: The temperature that people actually feel when going outside, which also account of humidity, wind, etc in a day\n",
    "- Unit: degree Celsius\n",
    "- Type: numerical"
   ]
  },
  {
   "cell_type": "code",
   "execution_count": 19,
   "metadata": {},
   "outputs": [
    {
     "data": {
      "text/plain": [
       "count    382.000000\n",
       "mean      16.541623\n",
       "std        7.388110\n",
       "min       -5.500000\n",
       "25%       11.800000\n",
       "50%       16.150000\n",
       "75%       21.850000\n",
       "max       39.000000\n",
       "Name: feelslikemax, dtype: float64"
      ]
     },
     "execution_count": 19,
     "metadata": {},
     "output_type": "execute_result"
    }
   ],
   "source": [
    "df['feelslikemax'].describe()"
   ]
  },
  {
   "cell_type": "markdown",
   "metadata": {},
   "source": [
    "### feelslikemin\n",
    "- Description: The minimum temperature that people actually feel when going outside, which also account of humidity, wind, etc in a day\n",
    "- Unit: degree Celsius\n",
    "- Type: numerical"
   ]
  },
  {
   "cell_type": "code",
   "execution_count": 20,
   "metadata": {},
   "outputs": [
    {
     "data": {
      "text/plain": [
       "count    382.000000\n",
       "mean       8.974869\n",
       "std        6.197290\n",
       "min       -7.300000\n",
       "25%        4.600000\n",
       "50%       10.200000\n",
       "75%       13.600000\n",
       "max       21.200000\n",
       "Name: feelslikemin, dtype: float64"
      ]
     },
     "execution_count": 20,
     "metadata": {},
     "output_type": "execute_result"
    }
   ],
   "source": [
    "df['feelslikemin'].describe()"
   ]
  },
  {
   "cell_type": "markdown",
   "metadata": {},
   "source": [
    "### feelslike\n",
    "- Description: The average temperature that people actually feel when going outside, which also account of humidity, wind, etc in a day\n",
    "- Unit: degree Celsius\n",
    "- Type: numerical"
   ]
  },
  {
   "cell_type": "code",
   "execution_count": 21,
   "metadata": {},
   "outputs": [
    {
     "data": {
      "text/plain": [
       "count    382.000000\n",
       "mean      12.624346\n",
       "std        6.674208\n",
       "min       -6.300000\n",
       "25%        8.025000\n",
       "50%       13.050000\n",
       "75%       17.575000\n",
       "max       29.600000\n",
       "Name: feelslike, dtype: float64"
      ]
     },
     "execution_count": 21,
     "metadata": {},
     "output_type": "execute_result"
    }
   ],
   "source": [
    "df['feelslike'].describe()"
   ]
  },
  {
   "cell_type": "markdown",
   "metadata": {},
   "source": [
    "### dew\n",
    "- Description: Dew point is the temperature at which the air become saturated with water vapor. \n",
    "- Interpretation of dew point values: \n",
    "    - Low: dry \n",
    "    - Moderate: slightly humid \n",
    "    - High: Uncomfortable, sticky conditions\n",
    "    - Very high: Oppressive\n",
    "- Unit: degree Celsius\n",
    "- Type: numerical"
   ]
  },
  {
   "cell_type": "code",
   "execution_count": 22,
   "metadata": {},
   "outputs": [
    {
     "data": {
      "text/plain": [
       "count    382.000000\n",
       "mean       8.784293\n",
       "std        4.779705\n",
       "min       -6.100000\n",
       "25%        6.200000\n",
       "50%        9.150000\n",
       "75%       12.175000\n",
       "max       20.300000\n",
       "Name: dew, dtype: float64"
      ]
     },
     "execution_count": 22,
     "metadata": {},
     "output_type": "execute_result"
    }
   ],
   "source": [
    "df['dew'].describe()"
   ]
  },
  {
   "cell_type": "markdown",
   "metadata": {},
   "source": [
    "### humidity\n",
    "- Description: Humidity measures the amount of water vapor present in the air \n",
    "- Type: numerical"
   ]
  },
  {
   "cell_type": "code",
   "execution_count": 23,
   "metadata": {},
   "outputs": [
    {
     "data": {
      "text/plain": [
       "count    382.000000\n",
       "mean      76.118586\n",
       "std       10.214621\n",
       "min       51.600000\n",
       "25%       68.600000\n",
       "50%       76.750000\n",
       "75%       84.475000\n",
       "max       95.000000\n",
       "Name: humidity, dtype: float64"
      ]
     },
     "execution_count": 23,
     "metadata": {},
     "output_type": "execute_result"
    }
   ],
   "source": [
    "df['humidity'].describe()"
   ]
  },
  {
   "cell_type": "markdown",
   "metadata": {},
   "source": [
    "### precip\n",
    "- Description: Any form of water that falls from the sky, including rain, snow, freezing rain, etc\n",
    "- Type: numerical"
   ]
  },
  {
   "cell_type": "code",
   "execution_count": 24,
   "metadata": {},
   "outputs": [
    {
     "data": {
      "text/plain": [
       "count    382.000000\n",
       "mean       2.053552\n",
       "std        3.939574\n",
       "min        0.000000\n",
       "25%        0.000000\n",
       "50%        0.195000\n",
       "75%        2.143000\n",
       "max       25.008000\n",
       "Name: precip, dtype: float64"
      ]
     },
     "execution_count": 24,
     "metadata": {},
     "output_type": "execute_result"
    }
   ],
   "source": [
    "df['precip'].describe()"
   ]
  }
 ],
 "metadata": {
  "kernelspec": {
   "display_name": ".venv",
   "language": "python",
   "name": "python3"
  },
  "language_info": {
   "codemirror_mode": {
    "name": "ipython",
    "version": 3
   },
   "file_extension": ".py",
   "mimetype": "text/x-python",
   "name": "python",
   "nbconvert_exporter": "python",
   "pygments_lexer": "ipython3",
   "version": "3.12.3"
  }
 },
 "nbformat": 4,
 "nbformat_minor": 2
}
